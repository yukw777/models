{
 "cells": [
  {
   "cell_type": "markdown",
   "metadata": {},
   "source": [
    "# Model Test\n",
    "Let's see how our model performs on the stage 1 evaluation set."
   ]
  },
  {
   "cell_type": "markdown",
   "metadata": {},
   "source": [
    "## Imports\n",
    "`pneumonia.model_test` has all the necessary functions."
   ]
  },
  {
   "cell_type": "code",
   "execution_count": null,
   "metadata": {},
   "outputs": [],
   "source": [
    "import sys\n",
    "sys.path.append(\"..\")\n",
    "from pneumonia.model_test import *"
   ]
  },
  {
   "cell_type": "markdown",
   "metadata": {},
   "source": [
    "## Load the label map\n",
    "This simply maps a class id to a human readable name, in our case 1 => pneumonia"
   ]
  },
  {
   "cell_type": "code",
   "execution_count": null,
   "metadata": {},
   "outputs": [],
   "source": [
    "LABEL_MAP = 'pneumonia/data/pneumonia_label_map.pbtxt'\n",
    "category_index = label_map_util.create_category_index_from_labelmap(LABEL_MAP, use_display_name=True)"
   ]
  },
  {
   "cell_type": "markdown",
   "metadata": {},
   "source": [
    "## Load the model"
   ]
  },
  {
   "cell_type": "code",
   "execution_count": null,
   "metadata": {},
   "outputs": [],
   "source": [
    "FROZEN_GRAPH = 'pneumonia/models/ssd_mobilenet_v2/exported/frozen_inference_graph.pb'\n",
    "frozen_graph = load_tf_graph(FROZEN_GRAPH)"
   ]
  },
  {
   "cell_type": "markdown",
   "metadata": {},
   "source": [
    "## Gather the test images"
   ]
  },
  {
   "cell_type": "code",
   "execution_count": null,
   "metadata": {},
   "outputs": [],
   "source": [
    "TEST_DIR = 'pneumonia/data/stage_1_test_images'\n",
    "test_images = glob.glob(os.path.join(TEST_DIR, '*.dcm'))"
   ]
  },
  {
   "cell_type": "markdown",
   "metadata": {},
   "source": [
    "## Run the test\n",
    "Detect pneumonia opacities from the test images. If detected, show the images with the bounding boxes."
   ]
  },
  {
   "cell_type": "code",
   "execution_count": null,
   "metadata": {},
   "outputs": [],
   "source": [
    "%matplotlib inline\n",
    "from utils import visualization_utils as vis_util\n",
    "from matplotlib import pyplot as plt\n",
    "for image in test_images:\n",
    "  # for image in test_images:\n",
    "    dcm = pydicom.read_file(image)\n",
    "    image_np = load_dcm_into_numpy_array(dcm)\n",
    "    output = run_inference_for_single_image(image_np, frozen_graph)\n",
    "    if output['num_detections'] > 0:\n",
    "      vis_util.visualize_boxes_and_labels_on_image_array(\n",
    "        image_np,\n",
    "        output['detection_boxes'],\n",
    "        output['detection_classes'],\n",
    "        output['detection_scores'],\n",
    "        category_index,\n",
    "        instance_masks=output.get('detection_masks'),\n",
    "        use_normalized_coordinates=True,\n",
    "        line_thickness=8,\n",
    "        min_score_thresh=0.1\n",
    "      )\n",
    "      plt.figure(figsize=(12, 8))\n",
    "      plt.imshow(image_np)"
   ]
  }
 ],
 "metadata": {
  "kernelspec": {
   "display_name": "Python 3",
   "language": "python",
   "name": "python3"
  },
  "language_info": {
   "codemirror_mode": {
    "name": "ipython",
    "version": 3
   },
   "file_extension": ".py",
   "mimetype": "text/x-python",
   "name": "python",
   "nbconvert_exporter": "python",
   "pygments_lexer": "ipython3",
   "version": "3.6.6"
  }
 },
 "nbformat": 4,
 "nbformat_minor": 2
}
