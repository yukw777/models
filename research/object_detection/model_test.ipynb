{
 "cells": [
  {
   "cell_type": "markdown",
   "metadata": {},
   "source": [
    "# Model Test\n",
    "Let's see how our model performs on the stage 1 test set."
   ]
  },
  {
   "cell_type": "markdown",
   "metadata": {},
   "source": [
    "## Imports\n",
    "`pneumonia.model_test` has all the necessary functions."
   ]
  },
  {
   "cell_type": "code",
   "execution_count": 1,
   "metadata": {},
   "outputs": [],
   "source": [
    "import sys\n",
    "sys.path.append(\"..\")\n",
    "from pneumonia.model_test import *"
   ]
  },
  {
   "cell_type": "markdown",
   "metadata": {},
   "source": [
    "## Load the label map\n",
    "This simply maps a class id to a human readable name, in our case 1 => pneumonia"
   ]
  },
  {
   "cell_type": "code",
   "execution_count": 2,
   "metadata": {},
   "outputs": [],
   "source": [
    "LABEL_MAP = 'pneumonia/data/pneumonia_label_map.pbtxt'\n",
    "category_index = label_map_util.create_category_index_from_labelmap(LABEL_MAP, use_display_name=True)"
   ]
  },
  {
   "cell_type": "markdown",
   "metadata": {},
   "source": [
    "## Load the model"
   ]
  },
  {
   "cell_type": "code",
   "execution_count": 3,
   "metadata": {},
   "outputs": [],
   "source": [
    "FROZEN_GRAPH = 'pneumonia/models/ssd_mobilenet_v2/exported/trained-10-07-2018/frozen/frozen_inference_graph.pb'\n",
    "frozen_graph = load_tf_graph(FROZEN_GRAPH)"
   ]
  },
  {
   "cell_type": "markdown",
   "metadata": {},
   "source": [
    "## Gather the test images"
   ]
  },
  {
   "cell_type": "code",
   "execution_count": 4,
   "metadata": {},
   "outputs": [],
   "source": [
    "TEST_DIR = 'pneumonia/data/stage_1_test_images'\n",
    "test_images = glob.glob(os.path.join(TEST_DIR, '*.dcm'))"
   ]
  },
  {
   "cell_type": "markdown",
   "metadata": {},
   "source": [
    "## Run the test\n",
    "Detect pneumonia opacities from the test images. Display the top 3 boxes (as long as their scores are above 0.0001). All the images will be saved in `OUPUT_DIR`. The first five images will be displayed below."
   ]
  },
  {
   "cell_type": "code",
   "execution_count": null,
   "metadata": {},
   "outputs": [
    {
     "name": "stderr",
     "output_type": "stream",
     "text": [
      "/home/keunwoo/Projects/yukw777-tf-models/research/object_detection/utils/visualization_utils.py:27: UserWarning: matplotlib.pyplot as already been imported, this call will have no effect.\n",
      "  import matplotlib; matplotlib.use('Agg')  # pylint: disable=multiple-statements\n",
      " 55%|█████▌    | 69/125 [01:55<01:31,  1.64s/it]"
     ]
    }
   ],
   "source": [
    "%matplotlib inline\n",
    "from tqdm import tqdm\n",
    "from utils import visualization_utils as vis_util\n",
    "from matplotlib import pyplot as plt\n",
    "from PIL import Image\n",
    "\n",
    "count = 0\n",
    "OUPUT_DIR = 'pneumonia/models/ssd_mobilenet_v2/tested_images'\n",
    "BATCH_SIZE = 8\n",
    "if not os.path.exists(OUPUT_DIR):\n",
    "    os.mkdir(OUPUT_DIR)\n",
    "\n",
    "for batch in tqdm(batchify(test_images, BATCH_SIZE)):\n",
    "    image_nps = []\n",
    "    for image in batch:\n",
    "        dcm = pydicom.read_file(image)\n",
    "        image_nps.append(load_dcm_into_numpy_array(dcm))\n",
    "    output = run_inference_for_image_batch(np.stack(image_nps), frozen_graph)\n",
    "    for i in range(BATCH_SIZE):\n",
    "        instance_masks = output.get('detection_masks')\n",
    "        if instance_masks:\n",
    "            instance_masks = instance_masks[i]\n",
    "        vis_util.visualize_boxes_and_labels_on_image_array(\n",
    "            image_nps[i],\n",
    "            output['detection_boxes'][i],\n",
    "            output['detection_classes'][i],\n",
    "            output['detection_scores'][i],\n",
    "            category_index,\n",
    "            instance_masks=instance_masks,\n",
    "            use_normalized_coordinates=True,\n",
    "            max_boxes_to_draw=3,\n",
    "            min_score_thresh=0.0001\n",
    "        )\n",
    "    for image_np, image in zip(image_nps, batch):\n",
    "        im = Image.fromarray(image_np)\n",
    "        im.save(os.path.join(OUPUT_DIR, os.path.splitext(os.path.basename(image))[0] + '.jpg'))\n",
    "    # show first 5 images with boxes\n",
    "    for image_np in image_nps:\n",
    "        if count >= 5:\n",
    "            break\n",
    "        plt.figure(figsize=(12, 8))\n",
    "        plt.imshow(image_np)\n",
    "        count += 1"
   ]
  },
  {
   "cell_type": "code",
   "execution_count": null,
   "metadata": {},
   "outputs": [],
   "source": []
  }
 ],
 "metadata": {
  "kernelspec": {
   "display_name": "Python 3",
   "language": "python",
   "name": "python3"
  },
  "language_info": {
   "codemirror_mode": {
    "name": "ipython",
    "version": 3
   },
   "file_extension": ".py",
   "mimetype": "text/x-python",
   "name": "python",
   "nbconvert_exporter": "python",
   "pygments_lexer": "ipython3",
   "version": "3.6.5"
  }
 },
 "nbformat": 4,
 "nbformat_minor": 2
}
